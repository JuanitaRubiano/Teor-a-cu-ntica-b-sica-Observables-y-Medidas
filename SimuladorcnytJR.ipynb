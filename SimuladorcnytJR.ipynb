{
 "cells": [
  {
   "cell_type": "markdown",
   "metadata": {},
   "source": [
    "## TRABAJO CNYT T2 ESTADOS CUANTICOS\n",
    "Junita Rubiano \n",
    "\n"
   ]
  },
  {
   "cell_type": "markdown",
   "metadata": {},
   "source": [
    "##### Simule el primer sistema cuántico descrito en la sección 4.1."
   ]
  },
  {
   "cell_type": "markdown",
   "metadata": {},
   "source": [
    "El sistema consiste en una partícula confinada a un conjunto discreto de posiciones en una línea. El simulador debe permitir especificar el número de posiciones y un vector ket de estado asignando las amplitudes."
   ]
  },
  {
   "cell_type": "code",
   "execution_count": 2,
   "metadata": {},
   "outputs": [],
   "source": [
    "import numpy as np\n",
    "\n",
    "class QuantumSystem:\n",
    "    def __init__(self, num_positions):\n",
    "        self.num_positions = num_positions\n",
    "        self.state = np.zeros(num_positions, dtype=complex)\n",
    "\n",
    "    def set_state(self, amplitudes):\n",
    "        \"\"\" Asigna el vector de estado, normalizándolo si es necesario. \"\"\"\n",
    "        if len(amplitudes) != self.num_positions:\n",
    "            raise ValueError(\"El número de amplitudes debe coincidir con el número de posiciones.\")\n",
    "        \n",
    "        norm = np.linalg.norm(amplitudes)\n",
    "        if norm == 0:\n",
    "            raise ValueError(\"El vector de estado no puede ser el vector nulo.\")\n",
    "        \n",
    "        self.state = np.array(amplitudes, dtype=complex) / norm\n",
    "\n",
    "    def probability(self, position):\n",
    "        \"\"\" Calcula la probabilidad de encontrar la partícula en una posición dada. \"\"\"\n",
    "        if position < 0 or position >= self.num_positions:\n",
    "            raise ValueError(\"Posición fuera de rango.\")\n",
    "\n",
    "        return np.abs(self.state[position]) ** 2\n",
    "\n",
    "    def __str__(self):\n",
    "        \"\"\" Representación del estado cuántico. \"\"\"\n",
    "        return f\"Estado cuántico: {self.state}\"\n",
    "\n",
    "\n"
   ]
  },
  {
   "cell_type": "markdown",
   "metadata": {},
   "source": [
    "1. El sistema debe calcular la probabilidad de encontrarlo en una posición en particular.\n"
   ]
  },
  {
   "cell_type": "markdown",
   "metadata": {},
   "source": [
    "\n",
    "En mecánica cuántica, un sistema puede representarse mediante un vector de estado, o ket $|\\psi\n",
    "angle$, en un espacio de Hilbert. Consideramos una partícula confinada en un número finito de posiciones discretas en una línea.\n",
    "\n",
    "- Estado Cuántico y Medición\n",
    "\n",
    "El estado de la partícula es una combinación lineal de los estados base $|n\n",
    "angle$:\n",
    "\n",
    "$$\n",
    "|\\psi\n",
    "angle = \\sum_{n} c_n |n\n",
    "angle\n",
    "$$\n",
    "\n",
    "donde $c_n$ son las amplitudes complejas, sujetas a la normalización:\n",
    "\n",
    "$$\n",
    "\\sum_{n} |c_n|^2 = 1\n",
    "$$\n",
    "\n",
    "Al medir, la partícula colapsa a $|n\n",
    "angle$ con probabilidad:\n",
    "\n",
    "$$\n",
    "P(n) = |c_n|^2\n",
    "$$\n",
    "\n",
    "- Implementación en el Simulador\n",
    "\n",
    "El simulador en Python permite:\n",
    "\n",
    "1. Definir el número de posiciones.\n",
    "2. Asignar un vector de estado $|\\psi\n",
    "angle$.\n",
    "3. Normalizar el estado si es necesario.\n",
    "4. Calcular la probabilidad de encontrar la partícula en cada posición.\n",
    "\n",
    "Ejemplo con el estado inicial:\n",
    "\n",
    "$$\n",
    "|\\psi\\rangle = \\frac{1}{2} |0\\rangle + \\frac{i}{2} |1\\rangle + \\frac{\\sqrt{2}}{2} |2\\rangle\n",
    "$$\n",
    "\n",
    "Calculando probabilidades:\n",
    "\n",
    "$$\n",
    "P(0) = 0.25, \\quad P(1) = 0.25, \\quad P(2) = 0.5\n",
    "$$\n",
    "\n",
    "\n",
    "Calculando probabilidades:\n",
    "\n",
    "$$\n",
    "P(0) = 0.25, \\quad P(1) = 0.25, \\quad P(2) = 0.5\n",
    "$$\n",
    "\n",
    "- Conclusión\n",
    "\n",
    "Este simulador ilustra cómo se describen y miden los estados cuánticos discretos, con posibles extensiones hacia puertas cuánticas y evolución temporal.\n",
    "\n"
   ]
  },
  {
   "cell_type": "code",
   "execution_count": 4,
   "metadata": {},
   "outputs": [
    {
     "name": "stdout",
     "output_type": "stream",
     "text": [
      "Estado cuántico: [0.5       +0.j  0.        +0.5j 0.70710678+0.j ]\n",
      "Probabilidad en la posición 0: 0.25\n",
      "Probabilidad en la posición 1: 0.25\n",
      "Probabilidad en la posición 2: 0.5000000000000001\n"
     ]
    }
   ],
   "source": [
    "import numpy as np\n",
    "\n",
    "class QuantumSystem:\n",
    "    def __init__(self, num_positions):\n",
    "        self.num_positions = num_positions\n",
    "        self.state = np.zeros(num_positions, dtype=complex)\n",
    "\n",
    "    def set_state(self, amplitudes):\n",
    "        \"\"\" Asigna el vector de estado, normalizándolo si es necesario. \"\"\"\n",
    "        if len(amplitudes) != self.num_positions:\n",
    "            raise ValueError(\"El número de amplitudes debe coincidir con el número de posiciones.\")\n",
    "        \n",
    "        norm = np.linalg.norm(amplitudes)\n",
    "        if norm == 0:\n",
    "            raise ValueError(\"El vector de estado no puede ser el vector nulo.\")\n",
    "        \n",
    "        self.state = np.array(amplitudes, dtype=complex) / norm\n",
    "\n",
    "    def probability(self, position):\n",
    "        \"\"\" Calcula la probabilidad de encontrar la partícula en una posición dada. \"\"\"\n",
    "        if position < 0 or position >= self.num_positions:\n",
    "            raise ValueError(\"Posición fuera de rango.\")\n",
    "\n",
    "        return np.abs(self.state[position]) ** 2\n",
    "\n",
    "    def __str__(self):\n",
    "        \"\"\" Representación del estado cuántico. \"\"\"\n",
    "        return f\"Estado cuántico: {self.state}\"\n",
    "\n",
    "if __name__ == \"__main__\":\n",
    "    num_positions = 3\n",
    "    ket = [1/2, 1j/2, np.sqrt(2)/2]  # Definiendo el ket con valores dados\n",
    "\n",
    "    qs = QuantumSystem(num_positions)\n",
    "    qs.set_state(ket)\n",
    "\n",
    "    print(qs)  # Imprime el estado normalizado\n",
    "    for i in range(num_positions):\n",
    "        print(f\"Probabilidad en la posición {i}: {qs.probability(i)}\")\n"
   ]
  }
 ],
 "metadata": {
  "kernelspec": {
   "display_name": "Python 3",
   "language": "python",
   "name": "python3"
  },
  "language_info": {
   "codemirror_mode": {
    "name": "ipython",
    "version": 3
   },
   "file_extension": ".py",
   "mimetype": "text/x-python",
   "name": "python",
   "nbconvert_exporter": "python",
   "pygments_lexer": "ipython3",
   "version": "3.13.2"
  }
 },
 "nbformat": 4,
 "nbformat_minor": 2
}
